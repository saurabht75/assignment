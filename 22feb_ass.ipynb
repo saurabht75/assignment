{
 "cells": [
  {
   "cell_type": "markdown",
   "id": "05eb1a95-b965-4096-82be-19a7ff51a9c3",
   "metadata": {},
   "source": [
    "# Ans.-1"
   ]
  },
  {
   "cell_type": "code",
   "execution_count": 3,
   "id": "a7357301-499a-4da7-a846-bf88a44c9549",
   "metadata": {},
   "outputs": [],
   "source": [
    "import pandas as pd"
   ]
  },
  {
   "cell_type": "code",
   "execution_count": 4,
   "id": "a52757e3-bbe1-4eb6-98a3-0500e742296f",
   "metadata": {},
   "outputs": [],
   "source": [
    "#Creating a series"
   ]
  },
  {
   "cell_type": "code",
   "execution_count": 5,
   "id": "841340b6-478b-4fed-9c77-61ce8a8b9327",
   "metadata": {},
   "outputs": [],
   "source": [
    "S = pd.Series([4,8,15,16,23,42])"
   ]
  },
  {
   "cell_type": "code",
   "execution_count": 6,
   "id": "082f61c2-ed52-44ed-8d77-524eaef5e783",
   "metadata": {},
   "outputs": [],
   "source": [
    "#printing the series"
   ]
  },
  {
   "cell_type": "code",
   "execution_count": 7,
   "id": "137b5a6c-c5a5-4c8c-b1bb-946a596369c5",
   "metadata": {},
   "outputs": [
    {
     "data": {
      "text/plain": [
       "0     4\n",
       "1     8\n",
       "2    15\n",
       "3    16\n",
       "4    23\n",
       "5    42\n",
       "dtype: int64"
      ]
     },
     "execution_count": 7,
     "metadata": {},
     "output_type": "execute_result"
    }
   ],
   "source": [
    "S"
   ]
  },
  {
   "cell_type": "markdown",
   "id": "de37ac2f-e76c-4f4d-b4c3-64d360a6560f",
   "metadata": {},
   "source": [
    "# Ans.-2"
   ]
  },
  {
   "cell_type": "code",
   "execution_count": 8,
   "id": "acf68ff0-2831-4391-9680-24339b55b81c",
   "metadata": {},
   "outputs": [],
   "source": [
    "#Creating a list containing 10 elements"
   ]
  },
  {
   "cell_type": "code",
   "execution_count": 9,
   "id": "878185cc-ed0b-489c-8046-0ce24c63b71a",
   "metadata": {},
   "outputs": [],
   "source": [
    "a = [5,10,15,20,25,30,35,40,45,50]"
   ]
  },
  {
   "cell_type": "code",
   "execution_count": 11,
   "id": "4ebb738a-0a6c-4dcb-bd84-7815b6042b3d",
   "metadata": {},
   "outputs": [],
   "source": [
    "#Applying pandas.series on variable (converting list into series)"
   ]
  },
  {
   "cell_type": "code",
   "execution_count": 12,
   "id": "7875d89f-dbb4-4cc3-bba9-6d88b7d4baf3",
   "metadata": {},
   "outputs": [],
   "source": [
    "G = pd.Series(a)"
   ]
  },
  {
   "cell_type": "code",
   "execution_count": 13,
   "id": "1f7ba919-b8ab-4af0-b90a-f1a1dc79e73f",
   "metadata": {},
   "outputs": [],
   "source": [
    "#Printing the series"
   ]
  },
  {
   "cell_type": "code",
   "execution_count": 14,
   "id": "808c340e-d8a1-4163-9e83-d7c2a6cc8a52",
   "metadata": {},
   "outputs": [
    {
     "data": {
      "text/plain": [
       "0     5\n",
       "1    10\n",
       "2    15\n",
       "3    20\n",
       "4    25\n",
       "5    30\n",
       "6    35\n",
       "7    40\n",
       "8    45\n",
       "9    50\n",
       "dtype: int64"
      ]
     },
     "execution_count": 14,
     "metadata": {},
     "output_type": "execute_result"
    }
   ],
   "source": [
    "G"
   ]
  },
  {
   "cell_type": "markdown",
   "id": "5995733c-3045-4adb-ab72-37c09d0ea115",
   "metadata": {},
   "source": [
    "# Ans.-3"
   ]
  },
  {
   "cell_type": "code",
   "execution_count": 15,
   "id": "6ad5b3ad-1ceb-4e6f-8865-75da7940a71e",
   "metadata": {},
   "outputs": [],
   "source": [
    "#Creating a dataframe with a given data"
   ]
  },
  {
   "cell_type": "code",
   "execution_count": 17,
   "id": "cdf67e27-434d-4f9a-b0e8-ec04caad545d",
   "metadata": {},
   "outputs": [],
   "source": [
    "df = pd.DataFrame({ 'Name': ['Alice','Bob','Claire'],\n",
    "                    'Age': [25,30,27],\n",
    "                    'Gender': ['Female','Male','Female']})"
   ]
  },
  {
   "cell_type": "code",
   "execution_count": 18,
   "id": "906d0f90-235a-431e-94f1-ce429e094b4b",
   "metadata": {},
   "outputs": [],
   "source": [
    "#Printing the dataframe"
   ]
  },
  {
   "cell_type": "code",
   "execution_count": 19,
   "id": "4577c4f0-3dad-45d2-bca7-8140fdb8a958",
   "metadata": {},
   "outputs": [
    {
     "data": {
      "text/html": [
       "<div>\n",
       "<style scoped>\n",
       "    .dataframe tbody tr th:only-of-type {\n",
       "        vertical-align: middle;\n",
       "    }\n",
       "\n",
       "    .dataframe tbody tr th {\n",
       "        vertical-align: top;\n",
       "    }\n",
       "\n",
       "    .dataframe thead th {\n",
       "        text-align: right;\n",
       "    }\n",
       "</style>\n",
       "<table border=\"1\" class=\"dataframe\">\n",
       "  <thead>\n",
       "    <tr style=\"text-align: right;\">\n",
       "      <th></th>\n",
       "      <th>Name</th>\n",
       "      <th>Age</th>\n",
       "      <th>Gender</th>\n",
       "    </tr>\n",
       "  </thead>\n",
       "  <tbody>\n",
       "    <tr>\n",
       "      <th>0</th>\n",
       "      <td>Alice</td>\n",
       "      <td>25</td>\n",
       "      <td>Female</td>\n",
       "    </tr>\n",
       "    <tr>\n",
       "      <th>1</th>\n",
       "      <td>Bob</td>\n",
       "      <td>30</td>\n",
       "      <td>Male</td>\n",
       "    </tr>\n",
       "    <tr>\n",
       "      <th>2</th>\n",
       "      <td>Claire</td>\n",
       "      <td>27</td>\n",
       "      <td>Female</td>\n",
       "    </tr>\n",
       "  </tbody>\n",
       "</table>\n",
       "</div>"
      ],
      "text/plain": [
       "     Name  Age  Gender\n",
       "0   Alice   25  Female\n",
       "1     Bob   30    Male\n",
       "2  Claire   27  Female"
      ]
     },
     "execution_count": 19,
     "metadata": {},
     "output_type": "execute_result"
    }
   ],
   "source": [
    "df"
   ]
  },
  {
   "cell_type": "markdown",
   "id": "118cb769-d3ed-4b67-aec2-c5a459228f47",
   "metadata": {},
   "source": [
    "# Ans.-4"
   ]
  },
  {
   "cell_type": "code",
   "execution_count": 51,
   "id": "1d1f6533-aa8c-40eb-bf4f-46a623b36765",
   "metadata": {
    "tags": []
   },
   "outputs": [
    {
     "data": {
      "text/plain": [
       "' A DataFrame is a 2-dimensional labeled data structure with columns that can be of different data types (e.g., numeric, string, boolean, etc.).DataFrame is typically used for storing and manipulating tabular data, while Series is a 1-dimensional labeled array that can hold data of any type. It is often used to represent a single column of data within a DataFrame (Each column in a DataFrame is essentially a Series).'"
      ]
     },
     "execution_count": 51,
     "metadata": {},
     "output_type": "execute_result"
    }
   ],
   "source": [
    "''' A DataFrame is a 2-dimensional labeled data structure with columns that can be of different data types (e.g., numeric, string, boolean, etc.).DataFrame is typically used for storing and manipulating tabular data, while Series is a 1-dimensional labeled array that can hold data of any type. It is often used to represent a single column of data within a DataFrame (Each column in a DataFrame is essentially a Series).'''"
   ]
  },
  {
   "cell_type": "code",
   "execution_count": 20,
   "id": "7de6fa93-de6d-49fb-acac-ae9d5aebeb85",
   "metadata": {},
   "outputs": [],
   "source": [
    "# Creating a dataframe"
   ]
  },
  {
   "cell_type": "code",
   "execution_count": 21,
   "id": "d6012609-cab7-4063-adaa-52114c5021a0",
   "metadata": {},
   "outputs": [],
   "source": [
    "df1 = pd.DataFrame({ 'Name': ['Saurabh','Priyans','Deep'],\n",
    "                     'Mobile_no.': [9434853258,9842415430,9258444627],\n",
    "                     'Email_ID': ['abc@gmail.com','xyz@gmail.com','pqr@gmail.com']})"
   ]
  },
  {
   "cell_type": "code",
   "execution_count": 22,
   "id": "1da219a9-d253-46ca-b375-0bd8460e2a1e",
   "metadata": {},
   "outputs": [],
   "source": [
    "# Printing the dataframe"
   ]
  },
  {
   "cell_type": "code",
   "execution_count": 23,
   "id": "f49156f3-9103-4278-8e53-d61055e2b79d",
   "metadata": {},
   "outputs": [
    {
     "data": {
      "text/html": [
       "<div>\n",
       "<style scoped>\n",
       "    .dataframe tbody tr th:only-of-type {\n",
       "        vertical-align: middle;\n",
       "    }\n",
       "\n",
       "    .dataframe tbody tr th {\n",
       "        vertical-align: top;\n",
       "    }\n",
       "\n",
       "    .dataframe thead th {\n",
       "        text-align: right;\n",
       "    }\n",
       "</style>\n",
       "<table border=\"1\" class=\"dataframe\">\n",
       "  <thead>\n",
       "    <tr style=\"text-align: right;\">\n",
       "      <th></th>\n",
       "      <th>Name</th>\n",
       "      <th>Mobile_no.</th>\n",
       "      <th>Email_ID</th>\n",
       "    </tr>\n",
       "  </thead>\n",
       "  <tbody>\n",
       "    <tr>\n",
       "      <th>0</th>\n",
       "      <td>Saurabh</td>\n",
       "      <td>9434853258</td>\n",
       "      <td>abc@gmail.com</td>\n",
       "    </tr>\n",
       "    <tr>\n",
       "      <th>1</th>\n",
       "      <td>Priyans</td>\n",
       "      <td>9842415430</td>\n",
       "      <td>xyz@gmail.com</td>\n",
       "    </tr>\n",
       "    <tr>\n",
       "      <th>2</th>\n",
       "      <td>Deep</td>\n",
       "      <td>9258444627</td>\n",
       "      <td>pqr@gmail.com</td>\n",
       "    </tr>\n",
       "  </tbody>\n",
       "</table>\n",
       "</div>"
      ],
      "text/plain": [
       "      Name  Mobile_no.       Email_ID\n",
       "0  Saurabh  9434853258  abc@gmail.com\n",
       "1  Priyans  9842415430  xyz@gmail.com\n",
       "2     Deep  9258444627  pqr@gmail.com"
      ]
     },
     "execution_count": 23,
     "metadata": {},
     "output_type": "execute_result"
    }
   ],
   "source": [
    "df1"
   ]
  },
  {
   "cell_type": "code",
   "execution_count": 24,
   "id": "f9ccdc54-d769-4872-91cb-8c2f350fc9e5",
   "metadata": {},
   "outputs": [],
   "source": [
    "# Here in above dataframe every column is a series in itself\n",
    "# Let us take out one series and store it in a variable"
   ]
  },
  {
   "cell_type": "code",
   "execution_count": 26,
   "id": "5dd7699a-408d-47fc-8db7-a69c8995309c",
   "metadata": {},
   "outputs": [],
   "source": [
    "sr = pd.Series(df1['Name'])"
   ]
  },
  {
   "cell_type": "code",
   "execution_count": 27,
   "id": "732248d6-5c8e-4bac-8013-04cc48c899ff",
   "metadata": {},
   "outputs": [
    {
     "data": {
      "text/plain": [
       "0    Saurabh\n",
       "1    Priyans\n",
       "2       Deep\n",
       "Name: Name, dtype: object"
      ]
     },
     "execution_count": 27,
     "metadata": {},
     "output_type": "execute_result"
    }
   ],
   "source": [
    "sr"
   ]
  },
  {
   "cell_type": "code",
   "execution_count": 28,
   "id": "ee7f4aba-0bc6-4b80-8bcf-7d5723cf1468",
   "metadata": {},
   "outputs": [
    {
     "data": {
      "text/plain": [
       "pandas.core.frame.DataFrame"
      ]
     },
     "execution_count": 28,
     "metadata": {},
     "output_type": "execute_result"
    }
   ],
   "source": [
    "type(df1)"
   ]
  },
  {
   "cell_type": "code",
   "execution_count": 29,
   "id": "632627a2-2c0b-43f3-8a59-d323b86884fc",
   "metadata": {},
   "outputs": [
    {
     "data": {
      "text/plain": [
       "pandas.core.series.Series"
      ]
     },
     "execution_count": 29,
     "metadata": {},
     "output_type": "execute_result"
    }
   ],
   "source": [
    "type(sr)"
   ]
  },
  {
   "cell_type": "markdown",
   "id": "05193591-842a-45e8-87ff-a75c67dd514d",
   "metadata": {},
   "source": [
    "# Ans.-5"
   ]
  },
  {
   "cell_type": "code",
   "execution_count": 52,
   "id": "768e289e-8c9b-4e69-a4c7-4543746c6f74",
   "metadata": {},
   "outputs": [
    {
     "data": {
      "text/plain": [
       "\"Functions to manipulate dataframe are:\\n1. df.drop() : used to delete any row or column\\n2. df.dropna() : used to delete any row or column containing null values\\n3. df.set_index('col') : It make given column as index\\n4. df.fillna('xyz') : It will fill null values with given input value, etc. functions are used to manipulate Dataframe\""
      ]
     },
     "execution_count": 52,
     "metadata": {},
     "output_type": "execute_result"
    }
   ],
   "source": [
    "'''Functions to manipulate dataframe are:\n",
    "1. df.drop() : used to delete any row or column\n",
    "2. df.dropna() : used to delete any row or column containing null values\n",
    "3. df.set_index('col') : It make given column as index\n",
    "4. df.fillna('xyz') : It will fill null values with given input value, etc. functions are used to manipulate Dataframe"
   ]
  },
  {
   "cell_type": "code",
   "execution_count": 32,
   "id": "a7a7e5bd-a855-4a06-bf28-e24d5efe0246",
   "metadata": {},
   "outputs": [],
   "source": [
    "# Taking datframe from ans.-4 and droping one of the row"
   ]
  },
  {
   "cell_type": "code",
   "execution_count": 33,
   "id": "86323f01-046c-4450-afcc-da40116d15cb",
   "metadata": {},
   "outputs": [
    {
     "data": {
      "text/html": [
       "<div>\n",
       "<style scoped>\n",
       "    .dataframe tbody tr th:only-of-type {\n",
       "        vertical-align: middle;\n",
       "    }\n",
       "\n",
       "    .dataframe tbody tr th {\n",
       "        vertical-align: top;\n",
       "    }\n",
       "\n",
       "    .dataframe thead th {\n",
       "        text-align: right;\n",
       "    }\n",
       "</style>\n",
       "<table border=\"1\" class=\"dataframe\">\n",
       "  <thead>\n",
       "    <tr style=\"text-align: right;\">\n",
       "      <th></th>\n",
       "      <th>Name</th>\n",
       "      <th>Mobile_no.</th>\n",
       "      <th>Email_ID</th>\n",
       "    </tr>\n",
       "  </thead>\n",
       "  <tbody>\n",
       "    <tr>\n",
       "      <th>0</th>\n",
       "      <td>Saurabh</td>\n",
       "      <td>9434853258</td>\n",
       "      <td>abc@gmail.com</td>\n",
       "    </tr>\n",
       "    <tr>\n",
       "      <th>1</th>\n",
       "      <td>Priyans</td>\n",
       "      <td>9842415430</td>\n",
       "      <td>xyz@gmail.com</td>\n",
       "    </tr>\n",
       "    <tr>\n",
       "      <th>2</th>\n",
       "      <td>Deep</td>\n",
       "      <td>9258444627</td>\n",
       "      <td>pqr@gmail.com</td>\n",
       "    </tr>\n",
       "  </tbody>\n",
       "</table>\n",
       "</div>"
      ],
      "text/plain": [
       "      Name  Mobile_no.       Email_ID\n",
       "0  Saurabh  9434853258  abc@gmail.com\n",
       "1  Priyans  9842415430  xyz@gmail.com\n",
       "2     Deep  9258444627  pqr@gmail.com"
      ]
     },
     "execution_count": 33,
     "metadata": {},
     "output_type": "execute_result"
    }
   ],
   "source": [
    "df1"
   ]
  },
  {
   "cell_type": "code",
   "execution_count": 34,
   "id": "366e78b1-f39b-4f13-a893-dd67065a9116",
   "metadata": {},
   "outputs": [
    {
     "data": {
      "text/html": [
       "<div>\n",
       "<style scoped>\n",
       "    .dataframe tbody tr th:only-of-type {\n",
       "        vertical-align: middle;\n",
       "    }\n",
       "\n",
       "    .dataframe tbody tr th {\n",
       "        vertical-align: top;\n",
       "    }\n",
       "\n",
       "    .dataframe thead th {\n",
       "        text-align: right;\n",
       "    }\n",
       "</style>\n",
       "<table border=\"1\" class=\"dataframe\">\n",
       "  <thead>\n",
       "    <tr style=\"text-align: right;\">\n",
       "      <th></th>\n",
       "      <th>Name</th>\n",
       "      <th>Mobile_no.</th>\n",
       "      <th>Email_ID</th>\n",
       "    </tr>\n",
       "  </thead>\n",
       "  <tbody>\n",
       "    <tr>\n",
       "      <th>0</th>\n",
       "      <td>Saurabh</td>\n",
       "      <td>9434853258</td>\n",
       "      <td>abc@gmail.com</td>\n",
       "    </tr>\n",
       "    <tr>\n",
       "      <th>2</th>\n",
       "      <td>Deep</td>\n",
       "      <td>9258444627</td>\n",
       "      <td>pqr@gmail.com</td>\n",
       "    </tr>\n",
       "  </tbody>\n",
       "</table>\n",
       "</div>"
      ],
      "text/plain": [
       "      Name  Mobile_no.       Email_ID\n",
       "0  Saurabh  9434853258  abc@gmail.com\n",
       "2     Deep  9258444627  pqr@gmail.com"
      ]
     },
     "execution_count": 34,
     "metadata": {},
     "output_type": "execute_result"
    }
   ],
   "source": [
    "df1.drop(1)"
   ]
  },
  {
   "cell_type": "markdown",
   "id": "da2dd2dd-04f3-4743-b1c6-dd44533ecb3f",
   "metadata": {},
   "source": [
    "# Ans.-6"
   ]
  },
  {
   "cell_type": "markdown",
   "id": "5a8c49b6-1081-4422-9bdc-d1628c8f6adb",
   "metadata": {
    "jp-MarkdownHeadingCollapsed": true,
    "tags": []
   },
   "source": [
    "# DataFrame is only mutable in nature whereas series and panel are immutable in nature. Only data can be added to series but cannot be manipulated whereas in DataFrame we can add additional data and also can manipulate the data."
   ]
  },
  {
   "cell_type": "markdown",
   "id": "210c2094-0e51-49df-afbf-256247e35d35",
   "metadata": {},
   "source": [
    "# Ans.-7"
   ]
  },
  {
   "cell_type": "code",
   "execution_count": 42,
   "id": "31083066-eab4-4b4c-84d6-b6831e9c8623",
   "metadata": {},
   "outputs": [],
   "source": [
    "# Creating multiple series in which we will store student name, age, marks in physics, chemistry and maths."
   ]
  },
  {
   "cell_type": "code",
   "execution_count": 43,
   "id": "57666b90-1820-432e-afa8-740814a8df58",
   "metadata": {},
   "outputs": [],
   "source": [
    "name = pd.Series(['Saurabh','Satyam','Vansh','Ridham','Harsh'])"
   ]
  },
  {
   "cell_type": "code",
   "execution_count": 44,
   "id": "eb209226-4418-4242-98d3-e1e092a9045d",
   "metadata": {},
   "outputs": [],
   "source": [
    "age = pd.Series([20,21,20,22,22])"
   ]
  },
  {
   "cell_type": "code",
   "execution_count": 45,
   "id": "ed7e1185-2a14-4c95-a212-acd2fea91209",
   "metadata": {},
   "outputs": [],
   "source": [
    "phy = pd.Series([98,92,94,90,90])"
   ]
  },
  {
   "cell_type": "code",
   "execution_count": 46,
   "id": "23d02df2-51cd-4d3d-b463-f350d145a1df",
   "metadata": {},
   "outputs": [],
   "source": [
    "che = pd.Series([89,90,91,92,94])"
   ]
  },
  {
   "cell_type": "code",
   "execution_count": 47,
   "id": "07b9dd0e-ec23-4971-ab57-4c34699a603b",
   "metadata": {},
   "outputs": [],
   "source": [
    "math = pd.Series([100,95,90,90,91])"
   ]
  },
  {
   "cell_type": "code",
   "execution_count": 48,
   "id": "ae12f3d7-18fe-4039-a0e3-0d528adc60f6",
   "metadata": {},
   "outputs": [],
   "source": [
    "# creating a dataframe from the multiple series"
   ]
  },
  {
   "cell_type": "code",
   "execution_count": 49,
   "id": "4a107c4d-e329-46e8-ba56-12137fcb112f",
   "metadata": {},
   "outputs": [],
   "source": [
    "df2 = pd.DataFrame({ 'Name': name, \n",
    "                     'Age': age,\n",
    "                     'Physics_marks': phy,\n",
    "                     'Chemistry_marks': che,\n",
    "                     'Maths_marks' : math})"
   ]
  },
  {
   "cell_type": "code",
   "execution_count": 50,
   "id": "7a382bcc-721a-4912-83b6-a87f4e4abe94",
   "metadata": {},
   "outputs": [
    {
     "data": {
      "text/html": [
       "<div>\n",
       "<style scoped>\n",
       "    .dataframe tbody tr th:only-of-type {\n",
       "        vertical-align: middle;\n",
       "    }\n",
       "\n",
       "    .dataframe tbody tr th {\n",
       "        vertical-align: top;\n",
       "    }\n",
       "\n",
       "    .dataframe thead th {\n",
       "        text-align: right;\n",
       "    }\n",
       "</style>\n",
       "<table border=\"1\" class=\"dataframe\">\n",
       "  <thead>\n",
       "    <tr style=\"text-align: right;\">\n",
       "      <th></th>\n",
       "      <th>Name</th>\n",
       "      <th>Age</th>\n",
       "      <th>Physics_marks</th>\n",
       "      <th>Chemistry_marks</th>\n",
       "      <th>Maths_marks</th>\n",
       "    </tr>\n",
       "  </thead>\n",
       "  <tbody>\n",
       "    <tr>\n",
       "      <th>0</th>\n",
       "      <td>Saurabh</td>\n",
       "      <td>20</td>\n",
       "      <td>98</td>\n",
       "      <td>89</td>\n",
       "      <td>100</td>\n",
       "    </tr>\n",
       "    <tr>\n",
       "      <th>1</th>\n",
       "      <td>Satyam</td>\n",
       "      <td>21</td>\n",
       "      <td>92</td>\n",
       "      <td>90</td>\n",
       "      <td>95</td>\n",
       "    </tr>\n",
       "    <tr>\n",
       "      <th>2</th>\n",
       "      <td>Vansh</td>\n",
       "      <td>20</td>\n",
       "      <td>94</td>\n",
       "      <td>91</td>\n",
       "      <td>90</td>\n",
       "    </tr>\n",
       "    <tr>\n",
       "      <th>3</th>\n",
       "      <td>Ridham</td>\n",
       "      <td>22</td>\n",
       "      <td>90</td>\n",
       "      <td>92</td>\n",
       "      <td>90</td>\n",
       "    </tr>\n",
       "    <tr>\n",
       "      <th>4</th>\n",
       "      <td>Harsh</td>\n",
       "      <td>22</td>\n",
       "      <td>90</td>\n",
       "      <td>94</td>\n",
       "      <td>91</td>\n",
       "    </tr>\n",
       "  </tbody>\n",
       "</table>\n",
       "</div>"
      ],
      "text/plain": [
       "      Name  Age  Physics_marks  Chemistry_marks  Maths_marks\n",
       "0  Saurabh   20             98               89          100\n",
       "1   Satyam   21             92               90           95\n",
       "2    Vansh   20             94               91           90\n",
       "3   Ridham   22             90               92           90\n",
       "4    Harsh   22             90               94           91"
      ]
     },
     "execution_count": 50,
     "metadata": {},
     "output_type": "execute_result"
    }
   ],
   "source": [
    "df2"
   ]
  },
  {
   "cell_type": "code",
   "execution_count": null,
   "id": "3c8cac2d-22b3-4849-9554-e64f8f292557",
   "metadata": {},
   "outputs": [],
   "source": []
  }
 ],
 "metadata": {
  "kernelspec": {
   "display_name": "Python 3 (ipykernel)",
   "language": "python",
   "name": "python3"
  },
  "language_info": {
   "codemirror_mode": {
    "name": "ipython",
    "version": 3
   },
   "file_extension": ".py",
   "mimetype": "text/x-python",
   "name": "python",
   "nbconvert_exporter": "python",
   "pygments_lexer": "ipython3",
   "version": "3.10.8"
  }
 },
 "nbformat": 4,
 "nbformat_minor": 5
}
